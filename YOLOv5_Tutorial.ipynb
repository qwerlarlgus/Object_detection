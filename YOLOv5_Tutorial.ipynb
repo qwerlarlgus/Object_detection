{
  "nbformat": 4,
  "nbformat_minor": 0,
  "metadata": {
    "colab": {
      "name": "YOLOv5_Tutorial.ipynb",
      "provenance": [],
      "authorship_tag": "ABX9TyOmCL0V38vKgxEqyDY0lHV8",
      "include_colab_link": true
    },
    "kernelspec": {
      "name": "python3",
      "display_name": "Python 3"
    }
  },
  "cells": [
    {
      "cell_type": "markdown",
      "metadata": {
        "id": "view-in-github",
        "colab_type": "text"
      },
      "source": [
        "<a href=\"https://colab.research.google.com/github/qwerlarlgus/Object_detection/blob/main/YOLOv5_Tutorial.ipynb\" target=\"_parent\"><img src=\"https://colab.research.google.com/assets/colab-badge.svg\" alt=\"Open In Colab\"/></a>"
      ]
    },
    {
      "cell_type": "markdown",
      "metadata": {
        "id": "HvhYZrIZCEyo"
      },
      "source": [
        "<img src=\"https://user-images.githubusercontent.com/26833433/98702494-b71c4e80-237a-11eb-87ed-17fcd6b3f066.jpg\">\n",
        "\n",
        "This notebook was written by Ultralytics LLC, and is freely available for redistribution under the [GPL-3.0 license](https://choosealicense.com/licenses/gpl-3.0/). \n",
        "For more information please visit https://github.com/ultralytics/yolov5 and https://www.ultralytics.com."
      ]
    },
    {
      "cell_type": "code",
      "metadata": {
        "id": "1Fo4hvP9uckI",
        "colab": {
          "base_uri": "https://localhost:8080/"
        },
        "outputId": "40bf6acb-c9bd-46f7-9bb4-8bcec8b80385"
      },
      "source": [
        "from google.colab import drive\n",
        "drive.mount('/content/drive')"
      ],
      "execution_count": null,
      "outputs": [
        {
          "output_type": "stream",
          "text": [
            "Drive already mounted at /content/drive; to attempt to forcibly remount, call drive.mount(\"/content/drive\", force_remount=True).\n"
          ],
          "name": "stdout"
        }
      ]
    },
    {
      "cell_type": "markdown",
      "metadata": {
        "id": "7mGmQbAO5pQb"
      },
      "source": [
        "# Setup\n",
        "\n",
        "Clone repo, install dependencies and check PyTorch and GPU."
      ]
    },
    {
      "cell_type": "code",
      "metadata": {
        "id": "tpYzObK7ulBt"
      },
      "source": [
        "!cp /content/drive/MyDrive/images.zip ."
      ],
      "execution_count": null,
      "outputs": []
    },
    {
      "cell_type": "code",
      "metadata": {
        "id": "3QOh7WRewFyX",
        "colab": {
          "base_uri": "https://localhost:8080/"
        },
        "outputId": "e70ecd4e-23d4-4417-d82d-8ef03dc0c49e"
      },
      "source": [
        "!pwd"
      ],
      "execution_count": null,
      "outputs": [
        {
          "output_type": "stream",
          "text": [
            "/content\n"
          ],
          "name": "stdout"
        }
      ]
    },
    {
      "cell_type": "code",
      "metadata": {
        "id": "B-40HNpsuzhp",
        "colab": {
          "base_uri": "https://localhost:8080/"
        },
        "outputId": "88a916a0-aeac-473f-a87c-a3e185817975"
      },
      "source": [
        "!unzip ./images.zip"
      ],
      "execution_count": null,
      "outputs": [
        {
          "output_type": "stream",
          "text": [
            "Archive:  ./images.zip\n",
            "  inflating: images/20201009.mp4     \n",
            "  inflating: images/20201009_1.mp4   \n",
            "  inflating: images/elephant1.jpg    \n",
            "  inflating: images/elephant2.png    \n",
            "  inflating: images/giraffe.jpg      \n",
            "  inflating: images/parking.avi      \n",
            "  inflating: images/penguins.png     \n"
          ],
          "name": "stdout"
        }
      ]
    },
    {
      "cell_type": "code",
      "metadata": {
        "id": "wbvMlHd_QwMG",
        "colab": {
          "base_uri": "https://localhost:8080/"
        },
        "outputId": "d59c9f7a-4485-4aab-e8b3-94e2217727a6"
      },
      "source": [
        "!git clone https://github.com/ultralytics/yolov5  # clone repo\n",
        "%cd yolov5\n",
        "%pip install -qr requirements.txt  # install dependencies\n",
        "\n",
        "import torch\n",
        "from IPython.display import Image, clear_output  # to display images\n",
        "\n",
        "clear_output()\n",
        "print('Setup complete. Using torch %s %s' % (torch.__version__, torch.cuda.get_device_properties(0) if torch.cuda.is_available() else 'CPU'))"
      ],
      "execution_count": null,
      "outputs": [
        {
          "output_type": "stream",
          "text": [
            "Setup complete. Using torch 1.7.0+cu101 _CudaDeviceProperties(name='Tesla T4', major=7, minor=5, total_memory=15079MB, multi_processor_count=40)\n"
          ],
          "name": "stdout"
        }
      ]
    },
    {
      "cell_type": "markdown",
      "metadata": {
        "id": "4JnkELT0cIJg"
      },
      "source": [
        "# 1. Inference\n",
        "\n",
        "`detect.py` runs inference on a variety of sources, downloading models automatically from the [latest YOLOv5 release](https://github.com/ultralytics/yolov5/releases)."
      ]
    },
    {
      "cell_type": "code",
      "metadata": {
        "id": "zR9ZbuQCH7FX",
        "colab": {
          "base_uri": "https://localhost:8080/"
        },
        "outputId": "071f0664-aba3-46f4-f69d-eee4ab1f5879"
      },
      "source": [
        "!python detect.py --weights yolov5s.pt  --conf 0.50 --source ../images/20201009_1.mp4\n"
      ],
      "execution_count": null,
      "outputs": [
        {
          "output_type": "stream",
          "text": [
            "Namespace(agnostic_nms=False, augment=False, classes=None, conf_thres=0.5, device='', exist_ok=False, img_size=640, iou_thres=0.45, name='exp', project='runs/detect', save_conf=False, save_txt=False, source='../images/20201009_1.mp4', update=False, view_img=False, weights=['yolov5s.pt'])\n",
            "YOLOv5 v4.0-49-gf59f801 torch 1.7.0+cu101 CUDA:0 (Tesla T4, 15079.75MB)\n",
            "\n",
            "Fusing layers... \n",
            "Model Summary: 224 layers, 7266973 parameters, 0 gradients, 17.0 GFLOPS\n",
            "video 1/1 (1/213) /content/images/20201009_1.mp4: 384x640 6 persons, Done. (0.011s)\n",
            "video 1/1 (2/213) /content/images/20201009_1.mp4: 384x640 6 persons, Done. (0.020s)\n",
            "video 1/1 (3/213) /content/images/20201009_1.mp4: 384x640 6 persons, Done. (0.012s)\n",
            "video 1/1 (4/213) /content/images/20201009_1.mp4: 384x640 6 persons, Done. (0.012s)\n",
            "video 1/1 (5/213) /content/images/20201009_1.mp4: 384x640 6 persons, Done. (0.013s)\n",
            "video 1/1 (6/213) /content/images/20201009_1.mp4: 384x640 6 persons, Done. (0.013s)\n",
            "video 1/1 (7/213) /content/images/20201009_1.mp4: 384x640 6 persons, Done. (0.012s)\n",
            "video 1/1 (8/213) /content/images/20201009_1.mp4: 384x640 6 persons, Done. (0.013s)\n",
            "video 1/1 (9/213) /content/images/20201009_1.mp4: 384x640 6 persons, Done. (0.014s)\n",
            "video 1/1 (10/213) /content/images/20201009_1.mp4: 384x640 6 persons, Done. (0.013s)\n",
            "video 1/1 (11/213) /content/images/20201009_1.mp4: 384x640 6 persons, Done. (0.013s)\n",
            "video 1/1 (12/213) /content/images/20201009_1.mp4: 384x640 6 persons, Done. (0.018s)\n",
            "video 1/1 (13/213) /content/images/20201009_1.mp4: 384x640 6 persons, Done. (0.014s)\n",
            "video 1/1 (14/213) /content/images/20201009_1.mp4: 384x640 6 persons, Done. (0.014s)\n",
            "video 1/1 (15/213) /content/images/20201009_1.mp4: 384x640 6 persons, Done. (0.013s)\n",
            "video 1/1 (16/213) /content/images/20201009_1.mp4: 384x640 6 persons, Done. (0.015s)\n",
            "video 1/1 (17/213) /content/images/20201009_1.mp4: 384x640 6 persons, Done. (0.016s)\n",
            "video 1/1 (18/213) /content/images/20201009_1.mp4: 384x640 6 persons, Done. (0.017s)\n",
            "video 1/1 (19/213) /content/images/20201009_1.mp4: 384x640 6 persons, Done. (0.014s)\n",
            "video 1/1 (20/213) /content/images/20201009_1.mp4: 384x640 6 persons, Done. (0.014s)\n",
            "video 1/1 (21/213) /content/images/20201009_1.mp4: 384x640 6 persons, Done. (0.013s)\n",
            "video 1/1 (22/213) /content/images/20201009_1.mp4: 384x640 6 persons, Done. (0.013s)\n",
            "video 1/1 (23/213) /content/images/20201009_1.mp4: 384x640 6 persons, Done. (0.016s)\n",
            "video 1/1 (24/213) /content/images/20201009_1.mp4: 384x640 6 persons, Done. (0.016s)\n",
            "video 1/1 (25/213) /content/images/20201009_1.mp4: 384x640 6 persons, Done. (0.013s)\n",
            "video 1/1 (26/213) /content/images/20201009_1.mp4: 384x640 6 persons, Done. (0.011s)\n",
            "video 1/1 (27/213) /content/images/20201009_1.mp4: 384x640 6 persons, Done. (0.011s)\n",
            "video 1/1 (28/213) /content/images/20201009_1.mp4: 384x640 6 persons, Done. (0.011s)\n",
            "video 1/1 (29/213) /content/images/20201009_1.mp4: 384x640 6 persons, Done. (0.011s)\n",
            "video 1/1 (30/213) /content/images/20201009_1.mp4: 384x640 6 persons, Done. (0.014s)\n",
            "video 1/1 (31/213) /content/images/20201009_1.mp4: 384x640 6 persons, Done. (0.012s)\n",
            "video 1/1 (32/213) /content/images/20201009_1.mp4: 384x640 6 persons, Done. (0.012s)\n",
            "video 1/1 (33/213) /content/images/20201009_1.mp4: 384x640 6 persons, Done. (0.011s)\n",
            "video 1/1 (34/213) /content/images/20201009_1.mp4: 384x640 6 persons, Done. (0.011s)\n",
            "video 1/1 (35/213) /content/images/20201009_1.mp4: 384x640 6 persons, Done. (0.011s)\n",
            "video 1/1 (36/213) /content/images/20201009_1.mp4: 384x640 6 persons, Done. (0.014s)\n",
            "video 1/1 (37/213) /content/images/20201009_1.mp4: 384x640 6 persons, Done. (0.016s)\n",
            "video 1/1 (38/213) /content/images/20201009_1.mp4: 384x640 6 persons, Done. (0.011s)\n",
            "video 1/1 (39/213) /content/images/20201009_1.mp4: 384x640 6 persons, Done. (0.012s)\n",
            "video 1/1 (40/213) /content/images/20201009_1.mp4: 384x640 6 persons, Done. (0.011s)\n",
            "video 1/1 (41/213) /content/images/20201009_1.mp4: 384x640 6 persons, Done. (0.011s)\n",
            "video 1/1 (42/213) /content/images/20201009_1.mp4: 384x640 6 persons, Done. (0.012s)\n",
            "video 1/1 (43/213) /content/images/20201009_1.mp4: 384x640 6 persons, Done. (0.012s)\n",
            "video 1/1 (44/213) /content/images/20201009_1.mp4: 384x640 6 persons, Done. (0.013s)\n",
            "video 1/1 (45/213) /content/images/20201009_1.mp4: 384x640 6 persons, Done. (0.013s)\n",
            "video 1/1 (46/213) /content/images/20201009_1.mp4: 384x640 6 persons, Done. (0.013s)\n",
            "video 1/1 (47/213) /content/images/20201009_1.mp4: 384x640 6 persons, Done. (0.011s)\n",
            "video 1/1 (48/213) /content/images/20201009_1.mp4: 384x640 6 persons, Done. (0.011s)\n",
            "video 1/1 (49/213) /content/images/20201009_1.mp4: 384x640 6 persons, Done. (0.015s)\n",
            "video 1/1 (50/213) /content/images/20201009_1.mp4: 384x640 6 persons, Done. (0.014s)\n",
            "video 1/1 (51/213) /content/images/20201009_1.mp4: 384x640 6 persons, Done. (0.012s)\n",
            "video 1/1 (52/213) /content/images/20201009_1.mp4: 384x640 6 persons, Done. (0.012s)\n",
            "video 1/1 (53/213) /content/images/20201009_1.mp4: 384x640 6 persons, Done. (0.011s)\n",
            "video 1/1 (54/213) /content/images/20201009_1.mp4: 384x640 6 persons, Done. (0.011s)\n",
            "video 1/1 (55/213) /content/images/20201009_1.mp4: 384x640 6 persons, Done. (0.013s)\n",
            "video 1/1 (56/213) /content/images/20201009_1.mp4: 384x640 6 persons, Done. (0.013s)\n",
            "video 1/1 (57/213) /content/images/20201009_1.mp4: 384x640 6 persons, Done. (0.011s)\n",
            "video 1/1 (58/213) /content/images/20201009_1.mp4: 384x640 6 persons, Done. (0.011s)\n",
            "video 1/1 (59/213) /content/images/20201009_1.mp4: 384x640 6 persons, Done. (0.014s)\n",
            "video 1/1 (60/213) /content/images/20201009_1.mp4: 384x640 6 persons, Done. (0.012s)\n",
            "video 1/1 (61/213) /content/images/20201009_1.mp4: 384x640 6 persons, Done. (0.014s)\n",
            "video 1/1 (62/213) /content/images/20201009_1.mp4: 384x640 6 persons, Done. (0.011s)\n",
            "video 1/1 (63/213) /content/images/20201009_1.mp4: 384x640 6 persons, Done. (0.012s)\n",
            "video 1/1 (64/213) /content/images/20201009_1.mp4: 384x640 6 persons, Done. (0.014s)\n",
            "video 1/1 (65/213) /content/images/20201009_1.mp4: 384x640 6 persons, Done. (0.014s)\n",
            "video 1/1 (66/213) /content/images/20201009_1.mp4: 384x640 6 persons, Done. (0.014s)\n",
            "video 1/1 (67/213) /content/images/20201009_1.mp4: 384x640 6 persons, Done. (0.015s)\n",
            "video 1/1 (68/213) /content/images/20201009_1.mp4: 384x640 6 persons, Done. (0.011s)\n",
            "video 1/1 (69/213) /content/images/20201009_1.mp4: 384x640 6 persons, Done. (0.011s)\n",
            "video 1/1 (70/213) /content/images/20201009_1.mp4: 384x640 6 persons, Done. (0.011s)\n",
            "video 1/1 (71/213) /content/images/20201009_1.mp4: 384x640 6 persons, Done. (0.012s)\n",
            "video 1/1 (72/213) /content/images/20201009_1.mp4: 384x640 6 persons, Done. (0.011s)\n",
            "video 1/1 (73/213) /content/images/20201009_1.mp4: 384x640 6 persons, Done. (0.015s)\n",
            "video 1/1 (74/213) /content/images/20201009_1.mp4: 384x640 7 persons, Done. (0.013s)\n",
            "video 1/1 (75/213) /content/images/20201009_1.mp4: 384x640 6 persons, Done. (0.012s)\n",
            "video 1/1 (76/213) /content/images/20201009_1.mp4: 384x640 6 persons, Done. (0.013s)\n",
            "video 1/1 (77/213) /content/images/20201009_1.mp4: 384x640 6 persons, Done. (0.012s)\n",
            "video 1/1 (78/213) /content/images/20201009_1.mp4: 384x640 6 persons, Done. (0.013s)\n",
            "video 1/1 (79/213) /content/images/20201009_1.mp4: 384x640 6 persons, Done. (0.011s)\n",
            "video 1/1 (80/213) /content/images/20201009_1.mp4: 384x640 6 persons, Done. (0.011s)\n",
            "video 1/1 (81/213) /content/images/20201009_1.mp4: 384x640 6 persons, Done. (0.013s)\n",
            "video 1/1 (82/213) /content/images/20201009_1.mp4: 384x640 6 persons, Done. (0.012s)\n",
            "video 1/1 (83/213) /content/images/20201009_1.mp4: 384x640 6 persons, Done. (0.012s)\n",
            "video 1/1 (84/213) /content/images/20201009_1.mp4: 384x640 6 persons, Done. (0.012s)\n",
            "video 1/1 (85/213) /content/images/20201009_1.mp4: 384x640 6 persons, Done. (0.011s)\n",
            "video 1/1 (86/213) /content/images/20201009_1.mp4: 384x640 6 persons, Done. (0.014s)\n",
            "video 1/1 (87/213) /content/images/20201009_1.mp4: 384x640 6 persons, Done. (0.012s)\n",
            "video 1/1 (88/213) /content/images/20201009_1.mp4: 384x640 6 persons, Done. (0.011s)\n",
            "video 1/1 (89/213) /content/images/20201009_1.mp4: 384x640 6 persons, Done. (0.013s)\n",
            "video 1/1 (90/213) /content/images/20201009_1.mp4: 384x640 5 persons, Done. (0.013s)\n",
            "video 1/1 (91/213) /content/images/20201009_1.mp4: 384x640 6 persons, Done. (0.012s)\n",
            "video 1/1 (92/213) /content/images/20201009_1.mp4: 384x640 7 persons, Done. (0.012s)\n",
            "video 1/1 (93/213) /content/images/20201009_1.mp4: 384x640 6 persons, Done. (0.015s)\n",
            "video 1/1 (94/213) /content/images/20201009_1.mp4: 384x640 6 persons, Done. (0.011s)\n",
            "video 1/1 (95/213) /content/images/20201009_1.mp4: 384x640 6 persons, Done. (0.011s)\n",
            "video 1/1 (96/213) /content/images/20201009_1.mp4: 384x640 6 persons, Done. (0.012s)\n",
            "video 1/1 (97/213) /content/images/20201009_1.mp4: 384x640 6 persons, Done. (0.013s)\n",
            "video 1/1 (98/213) /content/images/20201009_1.mp4: 384x640 6 persons, Done. (0.012s)\n",
            "video 1/1 (99/213) /content/images/20201009_1.mp4: 384x640 6 persons, Done. (0.012s)\n",
            "video 1/1 (100/213) /content/images/20201009_1.mp4: 384x640 6 persons, Done. (0.012s)\n",
            "video 1/1 (101/213) /content/images/20201009_1.mp4: 384x640 6 persons, Done. (0.012s)\n",
            "video 1/1 (102/213) /content/images/20201009_1.mp4: 384x640 6 persons, Done. (0.015s)\n",
            "video 1/1 (103/213) /content/images/20201009_1.mp4: 384x640 6 persons, Done. (0.011s)\n",
            "video 1/1 (104/213) /content/images/20201009_1.mp4: 384x640 6 persons, Done. (0.012s)\n",
            "video 1/1 (105/213) /content/images/20201009_1.mp4: 384x640 6 persons, Done. (0.011s)\n",
            "video 1/1 (106/213) /content/images/20201009_1.mp4: 384x640 6 persons, Done. (0.017s)\n",
            "video 1/1 (107/213) /content/images/20201009_1.mp4: 384x640 7 persons, Done. (0.014s)\n",
            "video 1/1 (108/213) /content/images/20201009_1.mp4: 384x640 7 persons, Done. (0.016s)\n",
            "video 1/1 (109/213) /content/images/20201009_1.mp4: 384x640 7 persons, Done. (0.014s)\n",
            "video 1/1 (110/213) /content/images/20201009_1.mp4: 384x640 7 persons, Done. (0.013s)\n",
            "video 1/1 (111/213) /content/images/20201009_1.mp4: 384x640 7 persons, Done. (0.011s)\n",
            "video 1/1 (112/213) /content/images/20201009_1.mp4: 384x640 6 persons, Done. (0.014s)\n",
            "video 1/1 (113/213) /content/images/20201009_1.mp4: 384x640 6 persons, Done. (0.014s)\n",
            "video 1/1 (114/213) /content/images/20201009_1.mp4: 384x640 6 persons, Done. (0.013s)\n",
            "video 1/1 (115/213) /content/images/20201009_1.mp4: 384x640 6 persons, Done. (0.013s)\n",
            "video 1/1 (116/213) /content/images/20201009_1.mp4: 384x640 6 persons, Done. (0.012s)\n",
            "video 1/1 (117/213) /content/images/20201009_1.mp4: 384x640 6 persons, Done. (0.012s)\n",
            "video 1/1 (118/213) /content/images/20201009_1.mp4: 384x640 7 persons, Done. (0.012s)\n",
            "video 1/1 (119/213) /content/images/20201009_1.mp4: 384x640 7 persons, Done. (0.012s)\n",
            "video 1/1 (120/213) /content/images/20201009_1.mp4: 384x640 7 persons, Done. (0.012s)\n",
            "video 1/1 (121/213) /content/images/20201009_1.mp4: 384x640 7 persons, Done. (0.011s)\n",
            "video 1/1 (122/213) /content/images/20201009_1.mp4: 384x640 7 persons, Done. (0.014s)\n",
            "video 1/1 (123/213) /content/images/20201009_1.mp4: 384x640 7 persons, Done. (0.012s)\n",
            "video 1/1 (124/213) /content/images/20201009_1.mp4: 384x640 6 persons, Done. (0.011s)\n",
            "video 1/1 (125/213) /content/images/20201009_1.mp4: 384x640 6 persons, Done. (0.012s)\n",
            "video 1/1 (126/213) /content/images/20201009_1.mp4: 384x640 6 persons, Done. (0.012s)\n",
            "video 1/1 (127/213) /content/images/20201009_1.mp4: 384x640 7 persons, Done. (0.013s)\n",
            "video 1/1 (128/213) /content/images/20201009_1.mp4: 384x640 7 persons, Done. (0.014s)\n",
            "video 1/1 (129/213) /content/images/20201009_1.mp4: 384x640 7 persons, Done. (0.014s)\n",
            "video 1/1 (130/213) /content/images/20201009_1.mp4: 384x640 7 persons, Done. (0.013s)\n",
            "video 1/1 (131/213) /content/images/20201009_1.mp4: 384x640 7 persons, Done. (0.014s)\n",
            "video 1/1 (132/213) /content/images/20201009_1.mp4: 384x640 7 persons, Done. (0.014s)\n",
            "video 1/1 (133/213) /content/images/20201009_1.mp4: 384x640 6 persons, Done. (0.013s)\n",
            "video 1/1 (134/213) /content/images/20201009_1.mp4: 384x640 7 persons, Done. (0.014s)\n",
            "video 1/1 (135/213) /content/images/20201009_1.mp4: 384x640 6 persons, Done. (0.012s)\n",
            "video 1/1 (136/213) /content/images/20201009_1.mp4: 384x640 6 persons, Done. (0.012s)\n",
            "video 1/1 (137/213) /content/images/20201009_1.mp4: 384x640 7 persons, Done. (0.012s)\n",
            "video 1/1 (138/213) /content/images/20201009_1.mp4: 384x640 7 persons, Done. (0.012s)\n",
            "video 1/1 (139/213) /content/images/20201009_1.mp4: 384x640 6 persons, Done. (0.012s)\n",
            "video 1/1 (140/213) /content/images/20201009_1.mp4: 384x640 7 persons, Done. (0.014s)\n",
            "video 1/1 (141/213) /content/images/20201009_1.mp4: 384x640 7 persons, Done. (0.012s)\n",
            "video 1/1 (142/213) /content/images/20201009_1.mp4: 384x640 6 persons, Done. (0.012s)\n",
            "video 1/1 (143/213) /content/images/20201009_1.mp4: 384x640 6 persons, Done. (0.012s)\n",
            "video 1/1 (144/213) /content/images/20201009_1.mp4: 384x640 6 persons, Done. (0.011s)\n",
            "video 1/1 (145/213) /content/images/20201009_1.mp4: 384x640 6 persons, Done. (0.014s)\n",
            "video 1/1 (146/213) /content/images/20201009_1.mp4: 384x640 6 persons, Done. (0.012s)\n",
            "video 1/1 (147/213) /content/images/20201009_1.mp4: 384x640 5 persons, Done. (0.012s)\n",
            "video 1/1 (148/213) /content/images/20201009_1.mp4: 384x640 5 persons, Done. (0.011s)\n",
            "video 1/1 (149/213) /content/images/20201009_1.mp4: 384x640 5 persons, Done. (0.011s)\n",
            "video 1/1 (150/213) /content/images/20201009_1.mp4: 384x640 6 persons, Done. (0.017s)\n",
            "video 1/1 (151/213) /content/images/20201009_1.mp4: 384x640 4 persons, Done. (0.015s)\n",
            "video 1/1 (152/213) /content/images/20201009_1.mp4: 384x640 6 persons, Done. (0.014s)\n",
            "video 1/1 (153/213) /content/images/20201009_1.mp4: 384x640 5 persons, Done. (0.013s)\n",
            "video 1/1 (154/213) /content/images/20201009_1.mp4: 384x640 4 persons, Done. (0.013s)\n",
            "video 1/1 (155/213) /content/images/20201009_1.mp4: 384x640 6 persons, Done. (0.014s)\n",
            "video 1/1 (156/213) /content/images/20201009_1.mp4: 384x640 6 persons, Done. (0.014s)\n",
            "video 1/1 (157/213) /content/images/20201009_1.mp4: 384x640 6 persons, Done. (0.012s)\n",
            "video 1/1 (158/213) /content/images/20201009_1.mp4: 384x640 6 persons, Done. (0.011s)\n",
            "video 1/1 (159/213) /content/images/20201009_1.mp4: 384x640 6 persons, Done. (0.014s)\n",
            "video 1/1 (160/213) /content/images/20201009_1.mp4: 384x640 6 persons, Done. (0.011s)\n",
            "video 1/1 (161/213) /content/images/20201009_1.mp4: 384x640 6 persons, Done. (0.012s)\n",
            "video 1/1 (162/213) /content/images/20201009_1.mp4: 384x640 6 persons, Done. (0.011s)\n",
            "video 1/1 (163/213) /content/images/20201009_1.mp4: 384x640 5 persons, Done. (0.011s)\n",
            "video 1/1 (164/213) /content/images/20201009_1.mp4: 384x640 4 persons, Done. (0.012s)\n",
            "video 1/1 (165/213) /content/images/20201009_1.mp4: 384x640 6 persons, Done. (0.012s)\n",
            "video 1/1 (166/213) /content/images/20201009_1.mp4: 384x640 7 persons, Done. (0.013s)\n",
            "video 1/1 (167/213) /content/images/20201009_1.mp4: 384x640 7 persons, Done. (0.014s)\n",
            "video 1/1 (168/213) /content/images/20201009_1.mp4: 384x640 6 persons, Done. (0.012s)\n",
            "video 1/1 (169/213) /content/images/20201009_1.mp4: 384x640 6 persons, Done. (0.012s)\n",
            "video 1/1 (170/213) /content/images/20201009_1.mp4: 384x640 6 persons, Done. (0.012s)\n",
            "video 1/1 (171/213) /content/images/20201009_1.mp4: 384x640 6 persons, Done. (0.011s)\n",
            "video 1/1 (172/213) /content/images/20201009_1.mp4: 384x640 6 persons, Done. (0.013s)\n",
            "video 1/1 (173/213) /content/images/20201009_1.mp4: 384x640 5 persons, Done. (0.011s)\n",
            "video 1/1 (174/213) /content/images/20201009_1.mp4: 384x640 6 persons, Done. (0.012s)\n",
            "video 1/1 (175/213) /content/images/20201009_1.mp4: 384x640 6 persons, Done. (0.014s)\n",
            "video 1/1 (176/213) /content/images/20201009_1.mp4: 384x640 6 persons, Done. (0.012s)\n",
            "video 1/1 (177/213) /content/images/20201009_1.mp4: 384x640 6 persons, Done. (0.012s)\n",
            "video 1/1 (178/213) /content/images/20201009_1.mp4: 384x640 5 persons, Done. (0.011s)\n",
            "video 1/1 (179/213) /content/images/20201009_1.mp4: 384x640 5 persons, Done. (0.013s)\n",
            "video 1/1 (180/213) /content/images/20201009_1.mp4: 384x640 5 persons, Done. (0.014s)\n",
            "video 1/1 (181/213) /content/images/20201009_1.mp4: 384x640 5 persons, Done. (0.012s)\n",
            "video 1/1 (182/213) /content/images/20201009_1.mp4: 384x640 5 persons, Done. (0.012s)\n",
            "video 1/1 (183/213) /content/images/20201009_1.mp4: 384x640 5 persons, Done. (0.012s)\n",
            "video 1/1 (184/213) /content/images/20201009_1.mp4: 384x640 5 persons, Done. (0.013s)\n",
            "video 1/1 (185/213) /content/images/20201009_1.mp4: 384x640 6 persons, Done. (0.015s)\n",
            "video 1/1 (186/213) /content/images/20201009_1.mp4: 384x640 5 persons, Done. (0.012s)\n",
            "video 1/1 (187/213) /content/images/20201009_1.mp4: 384x640 5 persons, Done. (0.013s)\n",
            "video 1/1 (188/213) /content/images/20201009_1.mp4: 384x640 5 persons, Done. (0.014s)\n",
            "video 1/1 (189/213) /content/images/20201009_1.mp4: 384x640 4 persons, Done. (0.014s)\n",
            "video 1/1 (190/213) /content/images/20201009_1.mp4: 384x640 7 persons, Done. (0.013s)\n",
            "video 1/1 (191/213) /content/images/20201009_1.mp4: 384x640 7 persons, Done. (0.012s)\n",
            "video 1/1 (192/213) /content/images/20201009_1.mp4: 384x640 6 persons, Done. (0.014s)\n",
            "video 1/1 (193/213) /content/images/20201009_1.mp4: 384x640 6 persons, Done. (0.015s)\n",
            "video 1/1 (194/213) /content/images/20201009_1.mp4: 384x640 6 persons, Done. (0.013s)\n",
            "video 1/1 (195/213) /content/images/20201009_1.mp4: 384x640 5 persons, Done. (0.016s)\n",
            "video 1/1 (196/213) /content/images/20201009_1.mp4: 384x640 5 persons, Done. (0.012s)\n",
            "video 1/1 (197/213) /content/images/20201009_1.mp4: 384x640 5 persons, Done. (0.012s)\n",
            "video 1/1 (198/213) /content/images/20201009_1.mp4: 384x640 5 persons, Done. (0.012s)\n",
            "video 1/1 (199/213) /content/images/20201009_1.mp4: 384x640 5 persons, Done. (0.012s)\n",
            "video 1/1 (200/213) /content/images/20201009_1.mp4: 384x640 5 persons, Done. (0.012s)\n",
            "video 1/1 (201/213) /content/images/20201009_1.mp4: 384x640 5 persons, Done. (0.012s)\n",
            "video 1/1 (202/213) /content/images/20201009_1.mp4: 384x640 5 persons, Done. (0.013s)\n",
            "video 1/1 (203/213) /content/images/20201009_1.mp4: 384x640 5 persons, Done. (0.011s)\n",
            "video 1/1 (204/213) /content/images/20201009_1.mp4: 384x640 5 persons, Done. (0.012s)\n",
            "video 1/1 (205/213) /content/images/20201009_1.mp4: 384x640 5 persons, Done. (0.012s)\n",
            "video 1/1 (206/213) /content/images/20201009_1.mp4: 384x640 5 persons, Done. (0.014s)\n",
            "video 1/1 (207/213) /content/images/20201009_1.mp4: 384x640 5 persons, Done. (0.014s)\n",
            "video 1/1 (208/213) /content/images/20201009_1.mp4: 384x640 6 persons, Done. (0.014s)\n",
            "video 1/1 (209/213) /content/images/20201009_1.mp4: 384x640 5 persons, Done. (0.015s)\n",
            "video 1/1 (210/213) /content/images/20201009_1.mp4: 384x640 5 persons, Done. (0.016s)\n",
            "video 1/1 (211/213) /content/images/20201009_1.mp4: 384x640 5 persons, Done. (0.014s)\n",
            "video 1/1 (212/213) /content/images/20201009_1.mp4: 384x640 6 persons, Done. (0.015s)\n",
            "video 1/1 (213/213) /content/images/20201009_1.mp4: 384x640 5 persons, Done. (0.011s)\n",
            "Results saved to runs/detect/exp10\n",
            "Done. (10.171s)\n"
          ],
          "name": "stdout"
        }
      ]
    },
    {
      "cell_type": "markdown",
      "metadata": {
        "id": "4qbaa3iEcrcE"
      },
      "source": [
        "Results are saved to `runs/detect`. A full list of available inference sources:\n",
        "<img src=\"https://user-images.githubusercontent.com/26833433/98274798-2b7a7a80-1f94-11eb-91a4-70c73593e26b.jpg\" width=\"900\"> "
      ]
    },
    {
      "cell_type": "markdown",
      "metadata": {
        "id": "0eq1SMWl6Sfn"
      },
      "source": [
        "# 2. Test\n",
        "Test a model on [COCO](https://cocodataset.org/#home) val or test-dev dataset to evaluate trained accuracy. Models are downloaded automatically from the [latest YOLOv5 release](https://github.com/ultralytics/yolov5/releases). To show results by class use the `--verbose` flag. Note that `pycocotools` metrics may be 1-2% better than the equivalent repo metrics, as is visible below, due to slight differences in mAP computation."
      ]
    },
    {
      "cell_type": "markdown",
      "metadata": {
        "id": "eyTZYGgRjnMc"
      },
      "source": [
        "## COCO val2017\n",
        "Download [COCO val 2017](https://github.com/ultralytics/yolov5/blob/74b34872fdf41941cddcf243951cdb090fbac17b/data/coco.yaml#L14) dataset (1GB - 5000 images), and test model accuracy."
      ]
    },
    {
      "cell_type": "code",
      "metadata": {
        "id": "WQPtK1QYVaD_",
        "colab": {
          "base_uri": "https://localhost:8080/",
          "height": 67,
          "referenced_widgets": [
            "751616c69f5e47839d3cd9ebb5f7fa75",
            "d212974099cf4823ac5666ad6b4c0b70",
            "7b965315ee1e44138b96ab9405e2b056",
            "6e3921a7a6f046dfa5200eb08f22d20c",
            "fa404f48d60e42c8a9c9a4d79ca1989f",
            "b3a262beeaa440cc96cf47f7b4110b35",
            "4a734e911acf425b8fb99d7a7dc7ee4a",
            "e532a639481f42149844da65327271c8"
          ]
        },
        "outputId": "dbfba55a-af13-4061-d555-e00e106ba010"
      },
      "source": [
        "# Download COCO val2017\n",
        "torch.hub.download_url_to_file('https://github.com/ultralytics/yolov5/releases/download/v1.0/coco2017val.zip', 'tmp.zip')\n",
        "!unzip -q tmp.zip -d ../ && rm tmp.zip"
      ],
      "execution_count": null,
      "outputs": [
        {
          "output_type": "display_data",
          "data": {
            "application/vnd.jupyter.widget-view+json": {
              "model_id": "751616c69f5e47839d3cd9ebb5f7fa75",
              "version_minor": 0,
              "version_major": 2
            },
            "text/plain": [
              "HBox(children=(FloatProgress(value=0.0, max=819257867.0), HTML(value='')))"
            ]
          },
          "metadata": {
            "tags": []
          }
        },
        {
          "output_type": "stream",
          "text": [
            "\n"
          ],
          "name": "stdout"
        }
      ]
    },
    {
      "cell_type": "code",
      "metadata": {
        "id": "X58w8JLpMnjH",
        "colab": {
          "base_uri": "https://localhost:8080/"
        },
        "outputId": "96977773-a4ff-4271-ce68-638298ba487a"
      },
      "source": [
        "# Run YOLOv5x on COCO val2017\n",
        "!python test.py --weights yolov5x.pt --data coco.yaml --img 640 --iou 0.65"
      ],
      "execution_count": null,
      "outputs": [
        {
          "output_type": "stream",
          "text": [
            "Traceback (most recent call last):\n",
            "  File \"test.py\", line 303, in <module>\n",
            "    opt.data = check_file(opt.data)  # check file\n",
            "  File \"/content/yolov5/utils/general.py\", line 105, in check_file\n",
            "    assert len(files) == 1, \"Multiple files match '%s', specify exact path: %s\" % (file, files)  # assert unique\n",
            "AssertionError: Multiple files match 'coco.yaml', specify exact path: ['./data/coco.yaml', './yolov5/data/coco.yaml']\n"
          ],
          "name": "stdout"
        }
      ]
    },
    {
      "cell_type": "markdown",
      "metadata": {
        "id": "rc_KbFk0juX2"
      },
      "source": [
        "## COCO test-dev2017\n",
        "Download [COCO test2017](https://github.com/ultralytics/yolov5/blob/74b34872fdf41941cddcf243951cdb090fbac17b/data/coco.yaml#L15) dataset (7GB - 40,000 images), to test model accuracy on test-dev set (20,000 images). Results are saved to a `*.json` file which can be submitted to the evaluation server at https://competitions.codalab.org/competitions/20794."
      ]
    },
    {
      "cell_type": "code",
      "metadata": {
        "id": "V0AJnSeCIHyJ"
      },
      "source": [
        "# Download COCO test-dev2017\n",
        "torch.hub.download_url_to_file('https://github.com/ultralytics/yolov5/releases/download/v1.0/coco2017labels.zip', 'tmp.zip')\n",
        "!unzip -q tmp.zip -d ../ && rm tmp.zip  # unzip labels\n",
        "!f=\"test2017.zip\" && curl http://images.cocodataset.org/zips/$f -o $f && unzip -q $f && rm $f  # 7GB,  41k images\n",
        "%mv ./test2017 ./coco/images && mv ./coco ../  # move images to /coco and move /coco next to /yolov5"
      ],
      "execution_count": null,
      "outputs": []
    },
    {
      "cell_type": "code",
      "metadata": {
        "id": "29GJXAP_lPrt"
      },
      "source": [
        "# Run YOLOv5s on COCO test-dev2017 using --task test\n",
        "!python test.py --weights yolov5s.pt --data coco.yaml --task test"
      ],
      "execution_count": null,
      "outputs": []
    },
    {
      "cell_type": "markdown",
      "metadata": {
        "id": "VUOiNLtMP5aG"
      },
      "source": [
        "# 3. Train\n",
        "\n",
        "Download [COCO128](https://www.kaggle.com/ultralytics/coco128), a small 128-image tutorial dataset, start tensorboard and train YOLOv5s from a pretrained checkpoint for 3 epochs (note actual training is typically much longer, around **300-1000 epochs**, depending on your dataset)."
      ]
    },
    {
      "cell_type": "code",
      "metadata": {
        "id": "Knxi2ncxWffW",
        "colab": {
          "base_uri": "https://localhost:8080/",
          "height": 65,
          "referenced_widgets": [
            "8501ed1563e4452eac9df6b7a66e8f8c",
            "d2bb96801e1f46f4a58e02534f7026ff",
            "468a796ef06b4a24bcba6fbd4a0a8db5",
            "42ad5c1ea7be4835bffebf90642178f1",
            "c58b5536d98f4814831934e9c30c4d78",
            "505597101151486ea29e9ab754544d27",
            "de6e7b4b4a1c408c9f89d89b07a13bcd",
            "f5cc9c7d4c274b2d81327ba3163c43fd"
          ]
        },
        "outputId": "c68a3db4-1314-46b4-9e52-83532eb65749"
      },
      "source": [
        "# Download COCO128\n",
        "torch.hub.download_url_to_file('https://github.com/ultralytics/yolov5/releases/download/v1.0/coco128.zip', 'tmp.zip')\n",
        "!unzip -q tmp.zip -d ../ && rm tmp.zip"
      ],
      "execution_count": null,
      "outputs": [
        {
          "output_type": "display_data",
          "data": {
            "application/vnd.jupyter.widget-view+json": {
              "model_id": "8501ed1563e4452eac9df6b7a66e8f8c",
              "version_minor": 0,
              "version_major": 2
            },
            "text/plain": [
              "HBox(children=(FloatProgress(value=0.0, max=22091032.0), HTML(value='')))"
            ]
          },
          "metadata": {
            "tags": []
          }
        },
        {
          "output_type": "stream",
          "text": [
            "\n"
          ],
          "name": "stdout"
        }
      ]
    },
    {
      "cell_type": "markdown",
      "metadata": {
        "id": "_pOkGLv1dMqh"
      },
      "source": [
        "Train a YOLOv5s model on [COCO128](https://www.kaggle.com/ultralytics/coco128) with `--data coco128.yaml`, starting from pretrained `--weights yolov5s.pt`, or from randomly initialized `--weights '' --cfg yolov5s.yaml`. Models are downloaded automatically from the [latest YOLOv5 release](https://github.com/ultralytics/yolov5/releases), and **COCO, COCO128, and VOC datasets are downloaded automatically** on first use.\n",
        "\n",
        "All training results are saved to `runs/train/` with incrementing run directories, i.e. `runs/train/exp2`, `runs/train/exp3` etc.\n"
      ]
    },
    {
      "cell_type": "code",
      "metadata": {
        "id": "bOy5KI2ncnWd"
      },
      "source": [
        "# Tensorboard (optional)\n",
        "%load_ext tensorboard\n",
        "%tensorboard --logdir runs/train"
      ],
      "execution_count": null,
      "outputs": []
    },
    {
      "cell_type": "code",
      "metadata": {
        "id": "2fLAV42oNb7M"
      },
      "source": [
        "# Weights & Biases (optional)\n",
        "%pip install -q wandb  \n",
        "!wandb login  # use 'wandb disabled' or 'wandb enabled' to disable or enable"
      ],
      "execution_count": null,
      "outputs": []
    },
    {
      "cell_type": "code",
      "metadata": {
        "id": "1NcFxRcFdJ_O",
        "colab": {
          "base_uri": "https://localhost:8080/"
        },
        "outputId": "6af7116a-01ab-4b94-e5d7-b37c17dc95de"
      },
      "source": [
        "# Train YOLOv5s on COCO128 for 3 epochs\n",
        "!python train.py --img 640 --batch 16 --epochs 3 --data coco128.yaml --weights yolov5s.pt --nosave --cache"
      ],
      "execution_count": null,
      "outputs": [
        {
          "output_type": "stream",
          "text": [
            "\u001b[34m\u001b[1mgithub: \u001b[0mup to date with https://github.com/ultralytics/yolov5 ✅\n",
            "YOLOv5 v4.0-21-gb26a2f6 torch 1.7.0+cu101 CUDA:0 (Tesla V100-SXM2-16GB, 16130.5MB)\n",
            "\n",
            "Namespace(adam=False, batch_size=16, bucket='', cache_images=True, cfg='', data='./data/coco128.yaml', device='', epochs=3, evolve=False, exist_ok=False, global_rank=-1, hyp='data/hyp.scratch.yaml', image_weights=False, img_size=[640, 640], local_rank=-1, log_artifacts=False, log_imgs=16, multi_scale=False, name='exp', noautoanchor=False, nosave=True, notest=False, project='runs/train', quad=False, rect=False, resume=False, save_dir='runs/train/exp', single_cls=False, sync_bn=False, total_batch_size=16, weights='yolov5s.pt', workers=8, world_size=1)\n",
            "\u001b[34m\u001b[1mwandb: \u001b[0mInstall Weights & Biases for YOLOv5 logging with 'pip install wandb' (recommended)\n",
            "Start Tensorboard with \"tensorboard --logdir runs/train\", view at http://localhost:6006/\n",
            "2021-01-17 19:56:03.945851: I tensorflow/stream_executor/platform/default/dso_loader.cc:49] Successfully opened dynamic library libcudart.so.10.1\n",
            "\u001b[34m\u001b[1mhyperparameters: \u001b[0mlr0=0.01, lrf=0.2, momentum=0.937, weight_decay=0.0005, warmup_epochs=3.0, warmup_momentum=0.8, warmup_bias_lr=0.1, box=0.05, cls=0.5, cls_pw=1.0, obj=1.0, obj_pw=1.0, iou_t=0.2, anchor_t=4.0, fl_gamma=0.0, hsv_h=0.015, hsv_s=0.7, hsv_v=0.4, degrees=0.0, translate=0.1, scale=0.5, shear=0.0, perspective=0.0, flipud=0.0, fliplr=0.5, mosaic=1.0, mixup=0.0\n",
            "Downloading https://github.com/ultralytics/yolov5/releases/download/v4.0/yolov5s.pt to yolov5s.pt...\n",
            "100% 14.1M/14.1M [00:00<00:00, 15.8MB/s]\n",
            "\n",
            "\n",
            "                 from  n    params  module                                  arguments                     \n",
            "  0                -1  1      3520  models.common.Focus                     [3, 32, 3]                    \n",
            "  1                -1  1     18560  models.common.Conv                      [32, 64, 3, 2]                \n",
            "  2                -1  1     18816  models.common.C3                        [64, 64, 1]                   \n",
            "  3                -1  1     73984  models.common.Conv                      [64, 128, 3, 2]               \n",
            "  4                -1  1    156928  models.common.C3                        [128, 128, 3]                 \n",
            "  5                -1  1    295424  models.common.Conv                      [128, 256, 3, 2]              \n",
            "  6                -1  1    625152  models.common.C3                        [256, 256, 3]                 \n",
            "  7                -1  1   1180672  models.common.Conv                      [256, 512, 3, 2]              \n",
            "  8                -1  1    656896  models.common.SPP                       [512, 512, [5, 9, 13]]        \n",
            "  9                -1  1   1182720  models.common.C3                        [512, 512, 1, False]          \n",
            " 10                -1  1    131584  models.common.Conv                      [512, 256, 1, 1]              \n",
            " 11                -1  1         0  torch.nn.modules.upsampling.Upsample    [None, 2, 'nearest']          \n",
            " 12           [-1, 6]  1         0  models.common.Concat                    [1]                           \n",
            " 13                -1  1    361984  models.common.C3                        [512, 256, 1, False]          \n",
            " 14                -1  1     33024  models.common.Conv                      [256, 128, 1, 1]              \n",
            " 15                -1  1         0  torch.nn.modules.upsampling.Upsample    [None, 2, 'nearest']          \n",
            " 16           [-1, 4]  1         0  models.common.Concat                    [1]                           \n",
            " 17                -1  1     90880  models.common.C3                        [256, 128, 1, False]          \n",
            " 18                -1  1    147712  models.common.Conv                      [128, 128, 3, 2]              \n",
            " 19          [-1, 14]  1         0  models.common.Concat                    [1]                           \n",
            " 20                -1  1    296448  models.common.C3                        [256, 256, 1, False]          \n",
            " 21                -1  1    590336  models.common.Conv                      [256, 256, 3, 2]              \n",
            " 22          [-1, 10]  1         0  models.common.Concat                    [1]                           \n",
            " 23                -1  1   1182720  models.common.C3                        [512, 512, 1, False]          \n",
            " 24      [17, 20, 23]  1    229245  models.yolo.Detect                      [80, [[10, 13, 16, 30, 33, 23], [30, 61, 62, 45, 59, 119], [116, 90, 156, 198, 373, 326]], [128, 256, 512]]\n",
            "Model Summary: 283 layers, 7276605 parameters, 7276605 gradients, 17.1 GFLOPS\n",
            "\n",
            "Transferred 362/362 items from yolov5s.pt\n",
            "Scaled weight_decay = 0.0005\n",
            "Optimizer groups: 62 .bias, 62 conv.weight, 59 other\n",
            "\u001b[34m\u001b[1mtrain: \u001b[0mScanning '../coco128/labels/train2017' for images and labels... 128 found, 0 missing, 2 empty, 0 corrupted: 100% 128/128 [00:00<00:00, 2647.74it/s]\n",
            "\u001b[34m\u001b[1mtrain: \u001b[0mNew cache created: ../coco128/labels/train2017.cache\n",
            "\u001b[34m\u001b[1mtrain: \u001b[0mScanning '../coco128/labels/train2017.cache' for images and labels... 128 found, 0 missing, 2 empty, 0 corrupted: 100% 128/128 [00:00<00:00, 1503840.09it/s]\n",
            "\u001b[34m\u001b[1mtrain: \u001b[0mCaching images (0.1GB): 100% 128/128 [00:00<00:00, 176.03it/s]\n",
            "\u001b[34m\u001b[1mval: \u001b[0mScanning '../coco128/labels/train2017.cache' for images and labels... 128 found, 0 missing, 2 empty, 0 corrupted: 100% 128/128 [00:00<00:00, 24200.82it/s]\n",
            "\u001b[34m\u001b[1mval: \u001b[0mCaching images (0.1GB): 100% 128/128 [00:01<00:00, 123.25it/s]\n",
            "Plotting labels... \n",
            "\n",
            "\u001b[34m\u001b[1mautoanchor: \u001b[0mAnalyzing anchors... anchors/target = 4.26, Best Possible Recall (BPR) = 0.9946\n",
            "Image sizes 640 train, 640 test\n",
            "Using 2 dataloader workers\n",
            "Logging results to runs/train/exp\n",
            "Starting training for 3 epochs...\n",
            "\n",
            "     Epoch   gpu_mem       box       obj       cls     total   targets  img_size\n",
            "       0/2     3.27G   0.04357   0.06779   0.01869    0.1301       207       640: 100% 8/8 [00:04<00:00,  1.95it/s]\n",
            "               Class      Images     Targets           P           R      mAP@.5  mAP@.5:.95: 100% 8/8 [00:05<00:00,  1.36it/s]\n",
            "                 all         128         929       0.392       0.732       0.657       0.428\n",
            "\n",
            "     Epoch   gpu_mem       box       obj       cls     total   targets  img_size\n",
            "       1/2     7.47G   0.04308   0.06636   0.02083    0.1303       227       640: 100% 8/8 [00:02<00:00,  3.88it/s]\n",
            "               Class      Images     Targets           P           R      mAP@.5  mAP@.5:.95: 100% 8/8 [00:01<00:00,  5.07it/s]\n",
            "                 all         128         929       0.387       0.737       0.657       0.432\n",
            "\n",
            "     Epoch   gpu_mem       box       obj       cls     total   targets  img_size\n",
            "       2/2     7.48G   0.04461   0.06864   0.01866    0.1319       191       640: 100% 8/8 [00:02<00:00,  3.57it/s]\n",
            "               Class      Images     Targets           P           R      mAP@.5  mAP@.5:.95: 100% 8/8 [00:02<00:00,  2.82it/s]\n",
            "                 all         128         929       0.385       0.742       0.658       0.431\n",
            "Optimizer stripped from runs/train/exp/weights/last.pt, 14.8MB\n",
            "3 epochs completed in 0.007 hours.\n",
            "\n"
          ],
          "name": "stdout"
        }
      ]
    },
    {
      "cell_type": "markdown",
      "metadata": {
        "id": "15glLzbQx5u0"
      },
      "source": [
        "# 4. Visualize"
      ]
    },
    {
      "cell_type": "markdown",
      "metadata": {
        "id": "DLI1JmHU7B0l"
      },
      "source": [
        "## Weights & Biases Logging 🌟 NEW\n",
        "\n",
        "[Weights & Biases](https://www.wandb.com/) (W&B) is now integrated with YOLOv5 for real-time visualization and cloud logging of training runs. This allows for better run comparison and introspection, as well improved visibility and collaboration for teams. To enable W&B `pip install wandb`, and then train normally (you will be guided through setup on first use). \n",
        "\n",
        "During training you will see live updates at [https://wandb.ai/home](https://wandb.ai/home), and you can create and share detailed [Reports](https://wandb.ai/glenn-jocher/yolov5_tutorial/reports/YOLOv5-COCO128-Tutorial-Results--VmlldzozMDI5OTY) of your results. For more information see the [YOLOv5 Weights & Biases Tutorial](https://github.com/ultralytics/yolov5/issues/1289). \n",
        "\n",
        "<img src=\"https://user-images.githubusercontent.com/26833433/98184457-bd3da580-1f0a-11eb-8461-95d908a71893.jpg\" width=\"800\">"
      ]
    },
    {
      "cell_type": "markdown",
      "metadata": {
        "id": "-WPvRbS5Swl6"
      },
      "source": [
        "## Local Logging\n",
        "\n",
        "All results are logged by default to `runs/train`, with a new experiment directory created for each new training as `runs/train/exp2`, `runs/train/exp3`, etc. View train and test jpgs to see mosaics, labels, predictions and augmentation effects. Note a **Mosaic Dataloader** is used for training (shown below), a new concept developed by Ultralytics and first featured in [YOLOv4](https://arxiv.org/abs/2004.10934)."
      ]
    },
    {
      "cell_type": "code",
      "metadata": {
        "id": "riPdhraOTCO0"
      },
      "source": [
        "Image(filename='runs/train/exp/train_batch0.jpg', width=800)  # train batch 0 mosaics and labels\n",
        "Image(filename='runs/train/exp/test_batch0_labels.jpg', width=800)  # test batch 0 labels\n",
        "Image(filename='runs/train/exp/test_batch0_pred.jpg', width=800)  # test batch 0 predictions"
      ],
      "execution_count": null,
      "outputs": []
    },
    {
      "cell_type": "markdown",
      "metadata": {
        "id": "OYG4WFEnTVrI"
      },
      "source": [
        "> <img src=\"https://user-images.githubusercontent.com/26833433/83667642-90fcb200-a583-11ea-8fa3-338bbf7da194.jpeg\" width=\"750\">  \n",
        "`train_batch0.jpg` shows train batch 0 mosaics and labels\n",
        "\n",
        "> <img src=\"https://user-images.githubusercontent.com/26833433/83667626-8c37fe00-a583-11ea-997b-0923fe59b29b.jpeg\" width=\"750\">  \n",
        "`test_batch0_labels.jpg` shows test batch 0 labels\n",
        "\n",
        "> <img src=\"https://user-images.githubusercontent.com/26833433/83667635-90641b80-a583-11ea-8075-606316cebb9c.jpeg\" width=\"750\">  \n",
        "`test_batch0_pred.jpg` shows test batch 0 _predictions_\n"
      ]
    },
    {
      "cell_type": "markdown",
      "metadata": {
        "id": "7KN5ghjE6ZWh"
      },
      "source": [
        "Training losses and performance metrics are also logged to [Tensorboard](https://www.tensorflow.org/tensorboard) and a custom `results.txt` logfile which is plotted as `results.png` (below) after training completes. Here we show YOLOv5s trained on COCO128 to 300 epochs, starting from scratch (blue), and from pretrained `--weights yolov5s.pt` (orange)."
      ]
    },
    {
      "cell_type": "code",
      "metadata": {
        "id": "MDznIqPF7nk3"
      },
      "source": [
        "from utils.plots import plot_results \n",
        "plot_results(save_dir='runs/train/exp')  # plot all results*.txt as results.png\n",
        "Image(filename='runs/train/exp/results.png', width=800)"
      ],
      "execution_count": null,
      "outputs": []
    },
    {
      "cell_type": "markdown",
      "metadata": {
        "id": "lfrEegCSW3fK"
      },
      "source": [
        "<img src=\"https://user-images.githubusercontent.com/26833433/97808309-8182b180-1c66-11eb-8461-bffe1a79511d.png\" width=\"800\">\n"
      ]
    },
    {
      "cell_type": "markdown",
      "metadata": {
        "id": "Zelyeqbyt3GD"
      },
      "source": [
        "# Environments\n",
        "\n",
        "YOLOv5 may be run in any of the following up-to-date verified environments (with all dependencies including [CUDA](https://developer.nvidia.com/cuda)/[CUDNN](https://developer.nvidia.com/cudnn), [Python](https://www.python.org/) and [PyTorch](https://pytorch.org/) preinstalled):\n",
        "\n",
        "- **Google Colab Notebook** with free GPU: <a href=\"https://colab.research.google.com/github/ultralytics/yolov5/blob/master/tutorial.ipynb\"><img src=\"https://colab.research.google.com/assets/colab-badge.svg\" alt=\"Open In Colab\"></a>\n",
        "- **Kaggle Notebook** with free GPU: [https://www.kaggle.com/ultralytics/yolov5](https://www.kaggle.com/ultralytics/yolov5)\n",
        "- **Google Cloud** Deep Learning VM. See [GCP Quickstart Guide](https://github.com/ultralytics/yolov5/wiki/GCP-Quickstart) \n",
        "- **Docker Image** https://hub.docker.com/r/ultralytics/yolov5. See [Docker Quickstart Guide](https://github.com/ultralytics/yolov5/wiki/Docker-Quickstart) ![Docker Pulls](https://img.shields.io/docker/pulls/ultralytics/yolov5?logo=docker)\n"
      ]
    },
    {
      "cell_type": "markdown",
      "metadata": {
        "id": "IEijrePND_2I"
      },
      "source": [
        "# Appendix\n",
        "\n",
        "Optional extras below. Unit tests validate repo functionality and should be run on any PRs submitted.\n"
      ]
    },
    {
      "cell_type": "code",
      "metadata": {
        "id": "gI6NoBev8Ib1"
      },
      "source": [
        "# Re-clone repo\n",
        "%cd ..\n",
        "%rm -rf yolov5 && git clone https://github.com/ultralytics/yolov5\n",
        "%cd yolov5"
      ],
      "execution_count": null,
      "outputs": []
    },
    {
      "cell_type": "code",
      "metadata": {
        "id": "mcKoSIK2WSzj"
      },
      "source": [
        "# Reproduce\n",
        "%%shell\n",
        "for x in yolov5s yolov5m yolov5l yolov5x; do\n",
        "  python test.py --weights $x.pt --data coco.yaml --img 640 --conf 0.25 --iou 0.45  # speed\n",
        "  python test.py --weights $x.pt --data coco.yaml --img 640 --conf 0.001 --iou 0.65  # mAP\n",
        "done"
      ],
      "execution_count": null,
      "outputs": []
    },
    {
      "cell_type": "code",
      "metadata": {
        "id": "FGH0ZjkGjejy"
      },
      "source": [
        "# Unit tests\n",
        "%%shell\n",
        "export PYTHONPATH=\"$PWD\"  # to run *.py. files in subdirectories\n",
        "\n",
        "rm -rf runs  # remove runs/\n",
        "for m in yolov5s; do  # models\n",
        "  python train.py --weights $m.pt --epochs 3 --img 320 --device 0  # train pretrained\n",
        "  python train.py --weights '' --cfg $m.yaml --epochs 3 --img 320 --device 0  # train scratch\n",
        "  for d in 0 cpu; do  # devices\n",
        "    python detect.py --weights $m.pt --device $d  # detect official\n",
        "    python detect.py --weights runs/train/exp/weights/best.pt --device $d  # detect custom\n",
        "    python test.py --weights $m.pt --device $d # test official\n",
        "    python test.py --weights runs/train/exp/weights/best.pt --device $d # test custom\n",
        "  done\n",
        "  python hubconf.py  # hub\n",
        "  python models/yolo.py --cfg $m.yaml  # inspect\n",
        "  python models/export.py --weights $m.pt --img 640 --batch 1  # export\n",
        "done"
      ],
      "execution_count": null,
      "outputs": []
    },
    {
      "cell_type": "code",
      "metadata": {
        "id": "gogI-kwi3Tye"
      },
      "source": [
        "# Profile\n",
        "from utils.torch_utils import profile \n",
        "\n",
        "m1 = lambda x: x * torch.sigmoid(x)\n",
        "m2 = torch.nn.SiLU()\n",
        "profile(x=torch.randn(16, 3, 640, 640), ops=[m1, m2], n=100)"
      ],
      "execution_count": null,
      "outputs": []
    },
    {
      "cell_type": "code",
      "metadata": {
        "id": "BSgFCAcMbk1R"
      },
      "source": [
        "# VOC\n",
        "for b, m in zip([64, 48, 32, 16], ['yolov5s', 'yolov5m', 'yolov5l', 'yolov5x']):  # zip(batch_size, model)\n",
        "  !python train.py --batch {b} --weights {m}.pt --data voc.yaml --epochs 50 --cache --img 512 --nosave --hyp hyp.finetune.yaml --project VOC --name {m}"
      ],
      "execution_count": null,
      "outputs": []
    }
  ]
}