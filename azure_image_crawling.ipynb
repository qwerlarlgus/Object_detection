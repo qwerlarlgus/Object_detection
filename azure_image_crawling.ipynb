{
  "nbformat": 4,
  "nbformat_minor": 0,
  "metadata": {
    "colab": {
      "name": "azure_image.ipynb",
      "provenance": [],
      "authorship_tag": "ABX9TyMh+th09KYFhdhMdESCTXqL",
      "include_colab_link": true
    },
    "kernelspec": {
      "name": "python3",
      "display_name": "Python 3"
    }
  },
  "cells": [
    {
      "cell_type": "markdown",
      "metadata": {
        "id": "view-in-github",
        "colab_type": "text"
      },
      "source": [
        "<a href=\"https://colab.research.google.com/github/qwerlarlgus/Object_detection/blob/main/azure_image.ipynb\" target=\"_parent\"><img src=\"https://colab.research.google.com/assets/colab-badge.svg\" alt=\"Open In Colab\"/></a>"
      ]
    },
    {
      "cell_type": "code",
      "metadata": {
        "id": "InrBMssN3U1I"
      },
      "source": [
        "!pip install fastbook"
      ],
      "execution_count": null,
      "outputs": []
    },
    {
      "cell_type": "code",
      "metadata": {
        "id": "F-k0mz4Y3U1N"
      },
      "source": [
        "#hide\n",
        "from fastbook import *"
      ],
      "execution_count": null,
      "outputs": []
    },
    {
      "cell_type": "code",
      "metadata": {
        "id": "Isu4E4Fw3U1O"
      },
      "source": [
        "# 41479e8cdfa545e09da6ae5c6e4afb65\n",
        "key = os.environ.get('AZURE_SEARCH_KEY', '41479e8cdfa545e09da6ae5c6e4afb65')"
      ],
      "execution_count": null,
      "outputs": []
    },
    {
      "cell_type": "code",
      "metadata": {
        "colab": {
          "base_uri": "https://localhost:8080/"
        },
        "id": "u1LL3oo83U1O",
        "outputId": "af722726-8a1f-4868-e882-6487956d084e"
      },
      "source": [
        "search_images_bing"
      ],
      "execution_count": null,
      "outputs": [
        {
          "output_type": "execute_result",
          "data": {
            "text/plain": [
              "<function fastbook.search_images_bing>"
            ]
          },
          "metadata": {
            "tags": []
          },
          "execution_count": 3
        }
      ]
    },
    {
      "cell_type": "code",
      "metadata": {
        "colab": {
          "base_uri": "https://localhost:8080/"
        },
        "id": "X4ixhEX23U1P",
        "outputId": "e568131b-356e-44d2-f777-044d7959a7b0"
      },
      "source": [
        "results = search_images_bing(key, '치즈')\n",
        "#results = search_images_bing(key, 'grizzly bear')\n",
        "ims = results.attrgot('content_url')\n",
        "len(ims)"
      ],
      "execution_count": null,
      "outputs": [
        {
          "output_type": "execute_result",
          "data": {
            "text/plain": [
              "150"
            ]
          },
          "metadata": {
            "tags": []
          },
          "execution_count": 4
        }
      ]
    },
    {
      "cell_type": "code",
      "metadata": {
        "colab": {
          "base_uri": "https://localhost:8080/"
        },
        "id": "b8n24lWV3U1Q",
        "outputId": "4c146398-b528-4383-8b1d-d8c52d8eb9f0"
      },
      "source": [
        "results"
      ],
      "execution_count": null,
      "outputs": [
        {
          "output_type": "execute_result",
          "data": {
            "text/plain": [
              "(#150) [{'webSearchUrl': 'https://www.bing.com/images/search?view=detailv2&FORM=OIIRPO&q=%EC%B9%98%EC%A6%88&id=22E129DB19F059EF9AF1A6F1C34DAFE47207B6D6&simid=608028676597613041', 'name': '치즈토스트 만들기, 간단한 식빵요리 아침식사대용 추천 - YouTube', 'thumbnailUrl': 'https://tse2.mm.bing.net/th?id=OIP.AgwhsBzOONXHcbVwuizziAHaEK&pid=Api', 'datePublished': '2020-03-28T21:35:00.0000000Z', 'isFamilyFriendly': True, 'contentUrl': 'https://i.ytimg.com/vi/6JO6tCR1Xv0/maxresdefault.jpg', 'hostPageUrl': 'https://www.youtube.com/watch?v=6JO6tCR1Xv0', 'contentSize': '138835 B', 'encodingFormat': 'jpeg', 'hostPageDisplayUrl': 'https://www.youtube.com/watch?v=6JO6tCR1Xv0', 'width': 1280, 'height': 720, 'hostPageFavIconUrl': 'https://www.bing.com/th?id=ODF.FN1SZscHib3IBjZN9FhjNQ&pid=Api', 'hostPageDomainFriendlyName': 'YouTube', 'hostPageDiscoveredDate': '2019-01-01T00:00:00.0000000Z', 'thumbnail': {'width': 474, 'height': 266}, 'imageInsightsToken': 'ccid_AgwhsBzO*cp_CA6DAE663D4788D9E5F710B93132A7D5*mid_22E129DB19F059EF9AF1A6F1C34DAFE47207B6D6*simid_608028676597613041*thid_OIP.AgwhsBzOONXHcbVwuizziAHaEK', 'insightsMetadata': {'pagesIncludingCount': 2, 'availableSizesCount': 2, 'videoObject': {'creator': {'name': '4월의라라 - 건강한 제철 요리 레시피'}, 'duration': 'PT2M27S', 'allowHttpsEmbed': False, 'videoId': '22E129DB19F059EF9AF122E129DB19F059EF9AF1', 'allowMobileEmbed': False}}, 'imageId': '22E129DB19F059EF9AF1A6F1C34DAFE47207B6D6', 'accentColor': '925D39'},{'webSearchUrl': 'https://www.bing.com/images/search?view=detailv2&FORM=OIIRPO&q=%EC%B9%98%EC%A6%88&id=554F83AE384ADDAD69461583F8CB02DD854F0607&simid=607994922496163919', 'name': '치즈 쭉쭉~ 꿀맛 치즈오븐스파게티 만들기 [램블] - YouTube', 'thumbnailUrl': 'https://tse1.mm.bing.net/th?id=OIP.Z5ZEQen5XsMkpdRVi89pjAHaEK&pid=Api', 'datePublished': '2020-07-01T16:09:00.0000000Z', 'isFamilyFriendly': True, 'contentUrl': 'https://i.ytimg.com/vi/ujVSJQXU6T8/maxresdefault.jpg', 'hostPageUrl': 'https://www.youtube.com/watch?v=ujVSJQXU6T8', 'contentSize': '94318 B', 'encodingFormat': 'jpeg', 'hostPageDisplayUrl': 'https://www.youtube.com/watch?v=ujVSJQXU6T8', 'width': 1280, 'height': 720, 'hostPageFavIconUrl': 'https://www.bing.com/th?id=ODF.FN1SZscHib3IBjZN9FhjNQ&pid=Api', 'hostPageDomainFriendlyName': 'YouTube', 'hostPageDiscoveredDate': '2017-01-24T00:00:00.0000000Z', 'thumbnail': {'width': 474, 'height': 266}, 'imageInsightsToken': 'ccid_Z5ZEQen5*cp_99825CF94E977769C37E2F997AA66535*mid_554F83AE384ADDAD69461583F8CB02DD854F0607*simid_607994922496163919*thid_OIP.Z5ZEQen5XsMkpdRVi89pjAHaEK', 'insightsMetadata': {'pagesIncludingCount': 2, 'availableSizesCount': 1, 'videoObject': {'creator': {'name': '램블부부 Ramble Couple'}, 'duration': 'PT3M53S', 'allowHttpsEmbed': True, 'videoId': '554F83AE384ADDAD6946554F83AE384ADDAD6946', 'allowMobileEmbed': True}}, 'imageId': '554F83AE384ADDAD69461583F8CB02DD854F0607', 'accentColor': 'AE8A1D'},{'webSearchUrl': 'https://www.bing.com/images/search?view=detailv2&FORM=OIIRPO&q=%EC%B9%98%EC%A6%88&id=D34E91E82DF2B0BD888084831D7D08F9D4B5E190&simid=608051199447270465', 'name': '치즈 오븐 파스타 - 펜네 - YouTube', 'thumbnailUrl': 'https://tse4.mm.bing.net/th?id=OIP.ZNeXGJ5B1btz2AC_d3s2LgHaEK&pid=Api', 'datePublished': '2014-08-23T12:00:00.0000000Z', 'isFamilyFriendly': True, 'contentUrl': 'https://i.ytimg.com/vi/Z-0_iDgqKmc/maxresdefault.jpg', 'hostPageUrl': 'http://www.youtube.com/watch?v=Z-0_iDgqKmc', 'contentSize': '162244 B', 'encodingFormat': 'jpeg', 'hostPageDisplayUrl': 'www.youtube.com/watch?v=Z-0_iDgqKmc', 'width': 1280, 'height': 720, 'hostPageFavIconUrl': 'https://www.bing.com/th?id=ODF.FN1SZscHib3IBjZN9FhjNQ&pid=Api', 'hostPageDomainFriendlyName': 'YouTube', 'hostPageDiscoveredDate': '2014-08-23T00:00:00.0000000Z', 'thumbnail': {'width': 474, 'height': 266}, 'imageInsightsToken': 'ccid_ZNeXGJ5B*cp_88B56705D332CB2C5CFEAA12AAC55692*mid_D34E91E82DF2B0BD888084831D7D08F9D4B5E190*simid_608051199447270465*thid_OIP.ZNeXGJ5B1btz2AC!_d3s2LgHaEK', 'insightsMetadata': {'pagesIncludingCount': 2, 'availableSizesCount': 1, 'videoObject': {'creator': {'name': 'Banature - 바나뚜레'}, 'duration': 'PT2M52S', 'allowHttpsEmbed': True, 'videoId': '9729BF236D9CC3D410809729BF236D9CC3D41080', 'allowMobileEmbed': True}}, 'imageId': 'D34E91E82DF2B0BD888084831D7D08F9D4B5E190', 'accentColor': 'B04E0F'},{'webSearchUrl': 'https://www.bing.com/images/search?view=detailv2&FORM=OIIRPO&q=%EC%B9%98%EC%A6%88&id=73F7F62C2E59CD7AAE1BBF41091B304AE2351C2F&simid=608007240391462137', 'name': '오늘아점으로 치즈돈까스먹어용 ㅎㅎ냠냠쩝쩝 ...', 'thumbnailUrl': 'https://tse4.mm.bing.net/th?id=OIP.wbGQ0kRurIOOkM54jATkVQHaEK&pid=Api', 'datePublished': '2020-01-28T04:18:00.0000000Z', 'isFamilyFriendly': True, 'contentUrl': 'https://i.ytimg.com/vi/l3EIsX1FHk8/maxresdefault.jpg', 'hostPageUrl': 'https://www.youtube.com/watch?v=l3EIsX1FHk8', 'contentSize': '149447 B', 'encodingFormat': 'jpeg', 'hostPageDisplayUrl': 'https://www.youtube.com/watch?v=l3EIsX1FHk8', 'width': 1280, 'height': 720, 'hostPageDiscoveredDate': '2020-01-28T04:18:00.0000000Z', 'thumbnail': {'width': 474, 'height': 266}, 'imageInsightsToken': 'ccid_wbGQ0kRu*cp_DC35CD980B48DC76479E089A64F54378*mid_73F7F62C2E59CD7AAE1BBF41091B304AE2351C2F*simid_608007240391462137*thid_OIP.wbGQ0kRurIOOkM54jATkVQHaEK', 'insightsMetadata': {'pagesIncludingCount': 1, 'availableSizesCount': 1}, 'imageId': '73F7F62C2E59CD7AAE1BBF41091B304AE2351C2F', 'accentColor': 'C09D0B'},{'webSearchUrl': 'https://www.bing.com/images/search?view=detailv2&FORM=OIIRPO&q=%EC%B9%98%EC%A6%88&id=0CFBA1D18DD5E79D9A9352F78D3C116EDCF94E6D&simid=608025013015217183', 'name': '독특한 노원역 맛집 대만 왕자치즈감자 - YouTube', 'thumbnailUrl': 'https://tse3.mm.bing.net/th?id=OIP.GxUxOUSsPvsnglqCVXbmOgHaEK&pid=Api', 'datePublished': '2019-02-10T14:02:00.0000000Z', 'isFamilyFriendly': True, 'contentUrl': 'https://i.ytimg.com/vi/aEmffC8M9_Y/maxresdefault.jpg', 'hostPageUrl': 'https://www.youtube.com/watch?v=aEmffC8M9_Y', 'contentSize': '126457 B', 'encodingFormat': 'jpeg', 'hostPageDisplayUrl': 'https://www.youtube.com/watch?v=aEmffC8M9_Y', 'width': 1280, 'height': 720, 'hostPageFavIconUrl': 'https://www.bing.com/th?id=ODF.FN1SZscHib3IBjZN9FhjNQ&pid=Api', 'hostPageDomainFriendlyName': 'YouTube', 'hostPageDiscoveredDate': '2019-02-10T14:02:00.0000000Z', 'thumbnail': {'width': 474, 'height': 266}, 'imageInsightsToken': 'ccid_GxUxOUSs*cp_72389631DAECF3B0203D10CB75D663B7*mid_0CFBA1D18DD5E79D9A9352F78D3C116EDCF94E6D*simid_608025013015217183*thid_OIP.GxUxOUSsPvsnglqCVXbmOgHaEK', 'insightsMetadata': {'pagesIncludingCount': 1, 'availableSizesCount': 1, 'videoObject': {'creator': {'name': 'Streetchew 스트릿츄'}, 'duration': 'PT4M23S', 'allowHttpsEmbed': True, 'videoId': '0CFBA1D18DD5E79D9A930CFBA1D18DD5E79D9A93', 'allowMobileEmbed': True}}, 'imageId': '0CFBA1D18DD5E79D9A9352F78D3C116EDCF94E6D', 'accentColor': 'B44E04'},{'webSearchUrl': 'https://www.bing.com/images/search?view=detailv2&FORM=OIIRPO&q=%EC%B9%98%EC%A6%88&id=8D4B45D2DF797CECAFA322E7D96A14F36FC64483&simid=607990034802282446', 'name': '치즈덕후를 위한 치즈돈까스 3대장 먹방!!1일2돈/ 돈까스클럽 ...', 'thumbnailUrl': 'https://tse2.mm.bing.net/th?id=OIP.gjXSNe5bmtz71WwEOk3kIQHaEK&pid=Api', 'datePublished': '2020-05-11T12:16:00.0000000Z', 'isFamilyFriendly': True, 'contentUrl': 'https://i.ytimg.com/vi/8_GjIwJueFA/maxresdefault.jpg', 'hostPageUrl': 'https://www.youtube.com/watch?v=8_GjIwJueFA', 'contentSize': '189264 B', 'encodingFormat': 'jpeg', 'hostPageDisplayUrl': 'https://www.youtube.com/watch?v=8_GjIwJueFA', 'width': 1280, 'height': 720, 'hostPageFavIconUrl': 'https://www.bing.com/th?id=ODF.FN1SZscHib3IBjZN9FhjNQ&pid=Api', 'hostPageDomainFriendlyName': 'YouTube', 'hostPageDiscoveredDate': '2018-08-09T00:00:00.0000000Z', 'thumbnail': {'width': 474, 'height': 266}, 'imageInsightsToken': 'ccid_gjXSNe5b*cp_723B80C0062F2FBF1163EAB2CD0B9B82*mid_8D4B45D2DF797CECAFA322E7D96A14F36FC64483*simid_607990034802282446*thid_OIP.gjXSNe5bmtz71WwEOk3kIQHaEK', 'insightsMetadata': {'pagesIncludingCount': 1, 'availableSizesCount': 1, 'videoObject': {'creator': {'name': 'sᅡ만다'}, 'duration': 'PT2M55S', 'allowHttpsEmbed': False, 'videoId': '', 'allowMobileEmbed': False}}, 'imageId': '8D4B45D2DF797CECAFA322E7D96A14F36FC64483', 'accentColor': 'A54326'},{'webSearchUrl': 'https://www.bing.com/images/search?view=detailv2&FORM=OIIRPO&q=%EC%B9%98%EC%A6%88&id=4D773C5BCA8648FE434E71599FED39619B8A195E&simid=608035204989125359', 'name': '리코타치즈샐러드 - 아내의 식탁', 'thumbnailUrl': 'https://tse2.mm.bing.net/th?id=OIP.3aCmLZT33LoCstsJVc5eIQHaHa&pid=Api', 'datePublished': '2019-09-10T20:11:00.0000000Z', 'isFamilyFriendly': True, 'contentUrl': 'http://static.myletter.net/20160324/1782bab1-176c-4a39-bb84-4132d9801997.jpg', 'hostPageUrl': 'https://www.wtable.net/recipes/cfNihpWHNPpgC1YwheiTUmxu?r=', 'contentSize': '258661 B', 'encodingFormat': 'jpeg', 'hostPageDisplayUrl': 'https://www.wtable.net/recipes/cfNihpWHNPpgC1YwheiTUmxu?r=', 'width': 1824, 'height': 1824, 'hostPageDiscoveredDate': '2017-07-31T00:00:00.0000000Z', 'thumbnail': {'width': 474, 'height': 474}, 'imageInsightsToken': 'ccid_3aCmLZT3*cp_CACC32FC13E15C506F39D0977F8B552B*mid_4D773C5BCA8648FE434E71599FED39619B8A195E*simid_608035204989125359*thid_OIP.3aCmLZT33LoCstsJVc5eIQHaHa', 'insightsMetadata': {'pagesIncludingCount': 3, 'availableSizesCount': 3}, 'imageId': '4D773C5BCA8648FE434E71599FED39619B8A195E', 'accentColor': 'C29E09'},{'webSearchUrl': 'https://www.bing.com/images/search?view=detailv2&FORM=OIIRPO&q=%EC%B9%98%EC%A6%88&id=817B63512C8AE46DD5B969A80C6DC3D72961E2FA&simid=608014894124893582', 'name': '치즈 떡볶이 ( 모짜렐라 치즈 녹이는 법 ) : 네이버 블로그', 'thumbnailUrl': 'https://tse1.mm.bing.net/th?id=OIP.BaevR5e8hy9QADQ16oEtmAD6D6&pid=Api', 'datePublished': '2018-10-01T11:29:00.0000000Z', 'isFamilyFriendly': True, 'contentUrl': 'http://blogfiles.naver.net/20161001_247/jeangeonu_1475271492148nngVg_JPEG/KakaoTalk_20161001_063425154.jpg', 'hostPageUrl': 'http://blog.naver.com/PostView.nhn?blogId=jeangeonu&logNo=220825253234', 'contentSize': '1299813 B', 'encodingFormat': 'jpeg', 'hostPageDisplayUrl': 'blog.naver.com/PostView.nhn?blogId=jeangeonu&logNo...', 'width': 930, 'height': 930, 'hostPageFavIconUrl': 'https://www.bing.com/th?id=ODF.cRsYS7ICELBkCXldtj2wXw&pid=Api', 'hostPageDiscoveredDate': '2018-06-22T00:00:00.0000000Z', 'thumbnail': {'width': 474, 'height': 474}, 'imageInsightsToken': 'ccid_BaevR5e8*cp_39A53D81CF0289282225C7C43B15B5AD*mid_817B63512C8AE46DD5B969A80C6DC3D72961E2FA*simid_608014894124893582*thid_OIP.BaevR5e8hy9QADQ16oEtmAD6D6', 'insightsMetadata': {'pagesIncludingCount': 1, 'availableSizesCount': 2}, 'imageId': '817B63512C8AE46DD5B969A80C6DC3D72961E2FA', 'accentColor': 'C52706'},{'webSearchUrl': 'https://www.bing.com/images/search?view=detailv2&FORM=OIIRPO&q=%EC%B9%98%EC%A6%88&id=5CFFEEF4BF4F0B3F8A4E512F09889E25BF77035C&simid=607999075669642150', 'name': '임실치즈피자 - YouTube', 'thumbnailUrl': 'https://tse3.mm.bing.net/th?id=OIP.7bvLQ3oW38EdzlROdHFNTAHaEK&pid=Api', 'datePublished': '2020-07-25T18:32:00.0000000Z', 'isFamilyFriendly': True, 'contentUrl': 'https://i.ytimg.com/vi/lgjIHcgN-t4/maxresdefault.jpg', 'hostPageUrl': 'https://www.youtube.com/watch?v=lgjIHcgN-t4', 'contentSize': '166096 B', 'encodingFormat': 'jpeg', 'hostPageDisplayUrl': 'https://www.youtube.com/watch?v=lgjIHcgN-t4', 'width': 1280, 'height': 720, 'hostPageFavIconUrl': 'https://www.bing.com/th?id=ODF.FN1SZscHib3IBjZN9FhjNQ&pid=Api', 'hostPageDomainFriendlyName': 'YouTube', 'hostPageDiscoveredDate': '2020-02-15T00:00:00.0000000Z', 'thumbnail': {'width': 474, 'height': 266}, 'imageInsightsToken': 'ccid_7bvLQ3oW*cp_09BF9C01027D2040AFCDD8CC55540C57*mid_5CFFEEF4BF4F0B3F8A4E512F09889E25BF77035C*simid_607999075669642150*thid_OIP.7bvLQ3oW38EdzlROdHFNTAHaEK', 'insightsMetadata': {'pagesIncludingCount': 1, 'availableSizesCount': 1}, 'imageId': '5CFFEEF4BF4F0B3F8A4E512F09889E25BF77035C', 'accentColor': '7C4024'},{'webSearchUrl': 'https://www.bing.com/images/search?view=detailv2&FORM=OIIRPO&q=%EC%B9%98%EC%A6%88&id=37349A0BD99BB9660C3A0E2F7A248393CD94A0D7&simid=608009920560758907', 'name': '네모네 - 에멘탈 치즈비누', 'thumbnailUrl': 'https://tse1.mm.bing.net/th?id=OIP.GifaNYvGPyo6UwJqMqkAeAHaHa&pid=Api', 'datePublished': '2019-09-04T01:20:00.0000000Z', 'isFamilyFriendly': True, 'contentUrl': 'https://nemone.co.kr/web/product/big/201903/906a5765540a2cdb3a9897d78ddd1545.png', 'hostPageUrl': 'https://nemone.co.kr/product/detail.html?product_no=6674&cate_no=290&display_group=1', 'contentSize': '424287 B', 'encodingFormat': 'png', 'hostPageDisplayUrl': 'https://nemone.co.kr/product/detail.html?product_no=6674...', 'width': 500, 'height': 500, 'hostPageDiscoveredDate': '2019-06-03T00:00:00.0000000Z', 'thumbnail': {'width': 474, 'height': 474}, 'imageInsightsToken': 'ccid_GifaNYvG*cp_D45CE54092D8A5AE74D00DF219171FC5*mid_37349A0BD99BB9660C3A0E2F7A248393CD94A0D7*simid_608009920560758907*thid_OIP.GifaNYvGPyo6UwJqMqkAeAHaHa', 'insightsMetadata': {'pagesIncludingCount': 3, 'availableSizesCount': 1}, 'imageId': '37349A0BD99BB9660C3A0E2F7A248393CD94A0D7', 'accentColor': 'C18B0A'}...]"
            ]
          },
          "metadata": {
            "tags": []
          },
          "execution_count": 5
        }
      ]
    },
    {
      "cell_type": "code",
      "metadata": {
        "id": "sjbXjncV3U1Q"
      },
      "source": [
        "#hide\n",
        "ims = ['http://weknowyourdreams.com/images/banana/banana-02.jpg']"
      ],
      "execution_count": null,
      "outputs": []
    },
    {
      "cell_type": "code",
      "metadata": {
        "id": "p0OhUaeY3U1Q",
        "outputId": "0d8e1731-7f02-451d-ffe6-4f2911eb26fb"
      },
      "source": [
        "dest = 'images/banana.jpg'\n",
        "download_url(ims[0], dest)"
      ],
      "execution_count": null,
      "outputs": [
        {
          "output_type": "display_data",
          "data": {
            "text/html": [
              ""
            ],
            "text/plain": [
              "<IPython.core.display.HTML object>"
            ]
          },
          "metadata": {
            "tags": []
          }
        }
      ]
    },
    {
      "cell_type": "code",
      "metadata": {
        "id": "qwBZ3X5Z3U1R",
        "outputId": "3c91196e-027e-4cf6-d854-09f6e816c448"
      },
      "source": [
        "im = Image.open(dest)\n",
        "im.to_thumb(128,128)"
      ],
      "execution_count": null,
      "outputs": [
        {
          "output_type": "execute_result",
          "data": {
            "image/png": "[encoded data removed]",
            "text/plain": [
              "<PIL.Image.Image image mode=RGB size=128x128 at 0x224007FFCC8>"
            ]
          },
          "metadata": {
            "tags": []
          },
          "execution_count": 12
        }
      ]
    },
    {
      "cell_type": "code",
      "metadata": {
        "id": "VNX52AsK3U1R"
      },
      "source": [
        ""
      ],
      "execution_count": null,
      "outputs": []
    }
  ]
}
