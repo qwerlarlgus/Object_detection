{
 "cells": [
  {
   "cell_type": "markdown",
   "metadata": {},
   "source": [
    "<h3>Google Image Scrapper for Juypter Notebook</h3>"
   ]
  },
  {
   "cell_type": "code",
   "execution_count": 1,
   "metadata": {},
   "outputs": [],
   "source": [
    "from GoogleImageScrapper import GoogleImageScraper\n",
    "import os\n",
    "import time\n",
    "\n",
    "sleep_between_interactions = 1\n",
    "webdriver_path = os.getcwd()+\".\\\\webdriver\\\\chromedriver.exe\"\n",
    "image_path = os.getcwd()+\".\\\\animal\""
   ]
  },
  {
   "cell_type": "code",
   "execution_count": null,
   "metadata": {},
   "outputs": [
    {
     "name": "stdout",
     "output_type": "stream",
     "text": [
      "GoogleImageScraper Notification: Scraping for image link... Please wait.\n",
      "0. https://upload.wikimedia.org/wikipedia/commons/0/0c/%EB%A7%8C%EB%91%90.jpg\n",
      "1. https://recipe1.ezmember.co.kr/cache/recipe/2017/09/30/f4ba75b36b297beceda0a3424feec37c1.jpg\n",
      "2. https://cdn.imweb.me/thumbnail/20190125/5c49d5de95c61.png\n",
      "3. https://s3.ap-northeast-2.amazonaws.com/event-localnaeil/FileData/Article/202004/56c1b8c3-43e6-466b-8d66-6e56a770206c.jpg\n",
      "4. https://pds.joins.com//news/component/htmlphoto_mmdata/201802/07/12621b47-8458-4025-9c77-e6930ac4c3ab.jpg\n",
      "5. https://i.ytimg.com/vi/RSmTGg1yPv4/maxresdefault.jpg\n",
      "6. https://cdn.imweb.me/thumbnail/20190328/5c9c56391ab8a.jpg\n",
      "7. https://img.insight.co.kr/static/2019/08/22/700/c5e8tj7z81p4io3s71jm.jpg\n",
      "8. https://recipe1.ezmember.co.kr/cache/recipe/2015/12/31/6f4172b42356611dccce894a02e10446.jpg\n",
      "9. https://image.auction.co.kr/itemimage/17/04/c6/1704c64a26.jpg\n",
      "10. https://shop.hansalim.or.kr/im/is/activeDesigner/080305029_content1.jpg\n",
      "11. https://homecuisine.co.kr/files/attach/images/140/777/023/073cc6028f3ab4241d18629623720a8c.JPG\n",
      "12. https://img.etoday.co.kr/pto_db/2019/11/600/20191125145742_1393388_727_485.jpg\n",
      "GoogleImageScraper Skip: Unable to get the link for this photo\n",
      "13. https://love.seoul.go.kr/Pds/Board/seoul_news_write/Editor/article_202001_05_01.png\n",
      "14. https://m.mytobaki.com/web/product/big/201907/503da9b084039951c6985584debff74d.jpg\n",
      "15. https://news.pulmuone.co.kr/webfile/webedit/20190409/20190409084606_[%EC%82%AC%EC%A7%841].jpg\n",
      "16. https://t1.daumcdn.net/liveboard/dailylife/e062ca93de1d4ce0a580044807aa7705.JPG\n",
      "17. https://cdn.crowdpic.net/detail-thumb/thumb_d_75FFE85382C9C29240C3C521030D5EEC.jpg\n",
      "18. https://img.seoul.co.kr/img/upload/2020/01/29/SSI_20200129013438.jpg\n",
      "19. https://img2.tmon.kr/cdn3/deals/2019/10/29/2635418106/2635418106_front_920f480230.jpg\n",
      "20. https://www.foodbank.co.kr/news/photo/201903/56765_13250_2645.jpg\n",
      "21. https://pbs.twimg.com/profile_images/1232650001169309696/nlRarNBE_400x400.jpg\n",
      "22. https://image.chosun.com/sitedata/image/201809/14/2018091401227_0.jpg\n",
      "23. https://static.hubzum.zumst.com/hubzum/2019/03/27/11/bba66b57c63b428fb83aac1d513976c0_780x0c.jpg\n",
      "24. https://th1.tmon.kr/thumbs/image/70c/2ff/e80/de70448f8_700x700_95_FIT.jpg\n",
      "25. https://m.yorivery.com/data/goods/18/12/49//1000000466/1000000466_detail_281.jpg\n",
      "26. https://minio.nculture.org/amsweb-opt/multimedia_assets/147/29237/8942/c/29237-thumb.jpg\n",
      "27. https://img.cjthemarket.com/images/file/product/458/20200508182648399.jpg\n",
      "28. https://recipe1.ezmember.co.kr/cache/recipe/2017/04/28/124ab3096a04bdce044d616c2f93c9251.jpg\n",
      "GoogleImageScraper Skip: Unable to get the link for this photo\n",
      "29. https://media.dongwon.com/upload/image/post/79616573pfic/yp79616721ai.jpg\n",
      "30. https://www.foodicon.co.kr/news/photo/202010/8827_13545_1917.jpg\n",
      "31. https://m.hanmandumall.com/web/product/big/201610/49_shop1_933366.jpg\n",
      "32. https://i.pinimg.com/originals/ff/c7/2d/ffc72d8f96f25dbe7f2f3d2fe246c28e.jpg\n",
      "33. https://i.ytimg.com/vi/j_6CMcRT6i8/maxresdefault.jpg\n",
      "34. https://www.businesskorea.co.kr/news/photo/202005/45894_58130_4828.jpg\n",
      "35. https://news.pulmuone.co.kr/webfile/webedit/20190725/20190725170058_[%EC%82%AC%EC%A7%841]%20%EC%96%87%EC%9D%80%ED%94%BC%EA%BD%89%EC%B0%AC%EC%86%8D%20%EA%B3%A0%EA%B8%B0&%EA%B9%80%EC%B9%98%EB%A7%8C%EB%91%90.jpg\n",
      "36. https://crcf.cookatmarket.com/product/images/2019/04/hoke_1555925316_1272.jpg\n",
      "37. https://image.zdnet.co.kr/2018/10/26/paikshow_og562iLljbl.jpg\n",
      "38. https://homecuisine.co.kr/files/attach/images/140/575/086/9fdc9e9134605c3b03dadb62cf3cf7ed.JPG\n",
      "39. https://red.lotteon.com/_m2_/_rsc_/lm8801066058507/?sref=http://image.lottemart.com/lim/static_root/images/edidescrimg/images/000378/0.6%EA%B9%80%EC%B9%98%E1%84%86%E1%85%A1%E1%86%AB%E1%84%83%E1%85%AE_%E1%84%89%E1%85%B5%E1%84%86%E1%85%B2%E1%86%AF-1.png\n",
      "40. https://upload.wikimedia.org/wikipedia/commons/thumb/6/63/Eomandu.jpg/220px-Eomandu.jpg\n",
      "41. https://www.businesskorea.co.kr/news/photo/202010/54047_65713_1126.jpg\n",
      "42. https://i.pinimg.com/originals/49/68/9d/49689dfeda1d66d9b098e28dd92e2b25.jpg\n",
      "43. https://th4.tmon.kr/thumbs/image/84a/4bc/a47/d707956fa_700x700_95_FIT.jpg\n",
      "44. https://file.mk.co.kr/meet/neds/2017/03/image_readtop_2017_155529_14888726942800599.jpg\n",
      "45. https://m.hanmandumall.com/web/product/big/201611/34_shop1_391011.jpg\n",
      "46. https://crcf.cookatmarket.com/product/images/2019/07/maja_1563184097_4830.jpg\n",
      "GoogleImageScraper Skip: Unable to get the link for this photo\n",
      "47. https://pds.joins.com/news/component/htmlphoto_mmdata/202003/14/8d673337-e445-49e1-81ca-5aaa9c2cb25c.jpg\n"
     ]
    }
   ],
   "source": [
    "#image_path = os.getcwd()+\"\\\\photos\"\n",
    "#add new search key into array [\"cat\",\"t-shirt\",\"apple\",\"orange\",\"pear\",\"fish\"]\n",
    "#search_keys= [\"woodpecker\",\"owl\"]\n",
    "search_keys= [\"만두\", \"새우튀김\", \"치즈\"]\n",
    "number_of_images = 120\n",
    "headless = False\n",
    "#min_resolution = (width,height)\n",
    "min_resolution=(0,0)\n",
    "#max_resolution = (width,height)\n",
    "max_resolution=(2500,2500)\n",
    "for search_key in search_keys:\n",
    "    image_scrapper = GoogleImageScraper(webdriver_path,image_path,search_key,number_of_images,headless,min_resolution,max_resolution)\n",
    "    image_urls = image_scrapper.find_image_urls()\n",
    "    image_scrapper.save_images(image_urls)\n",
    "    time.sleep(sleep_between_interactions)"
   ]
  },
  {
   "cell_type": "code",
   "execution_count": null,
   "metadata": {},
   "outputs": [],
   "source": []
  }
 ],
 "metadata": {
  "kernelspec": {
   "display_name": "Python 3",
   "language": "python",
   "name": "python3"
  },
  "language_info": {
   "codemirror_mode": {
    "name": "ipython",
    "version": 3
   },
   "file_extension": ".py",
   "mimetype": "text/x-python",
   "name": "python",
   "nbconvert_exporter": "python",
   "pygments_lexer": "ipython3",
   "version": "3.7.6"
  }
 },
 "nbformat": 4,
 "nbformat_minor": 4
}
